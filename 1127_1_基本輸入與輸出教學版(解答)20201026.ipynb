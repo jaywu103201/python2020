{
  "nbformat": 4,
  "nbformat_minor": 0,
  "metadata": {
    "colab": {
      "name": "1127 1_基本輸入與輸出教學版(解答)20201026.ipynb",
      "provenance": [],
      "collapsed_sections": [],
      "include_colab_link": true
    },
    "kernelspec": {
      "name": "python3",
      "display_name": "Python 3"
    }
  },
  "cells": [
    {
      "cell_type": "markdown",
      "metadata": {
        "id": "view-in-github",
        "colab_type": "text"
      },
      "source": [
        "<a href=\"https://colab.research.google.com/github/jaywu103201/python2020/blob/master/1127_1_%E5%9F%BA%E6%9C%AC%E8%BC%B8%E5%85%A5%E8%88%87%E8%BC%B8%E5%87%BA%E6%95%99%E5%AD%B8%E7%89%88(%E8%A7%A3%E7%AD%94)20201026.ipynb\" target=\"_parent\"><img src=\"https://colab.research.google.com/assets/colab-badge.svg\" alt=\"Open In Colab\"/></a>"
      ]
    },
    {
      "cell_type": "markdown",
      "metadata": {
        "id": "0ynE7xesLMzb"
      },
      "source": [
        "# 1.基本輸入與輸出"
      ]
    },
    {
      "cell_type": "markdown",
      "metadata": {
        "id": "FHYKyUOzCNGB"
      },
      "source": [
        "```\n",
        "標準輸入(stdin)與標準輸出(stdout)\n",
        "   python輸入:input()\n",
        "   python輸出: print()\n",
        "```\n",
        "```\n",
        "自主學習主題\n",
        "   python格式化輸出技術\n",
        "```\n",
        "```\n",
        "進階學習主題:\n",
        "[10]讀取檔案(txt,csv,xslx,json,...)與輸出到檔案\n",
        "[20]資料庫讀取與輸出\n",
        "```\n",
        "# 基礎輸入與輸出(Basic Input and Output)\n",
        "\n",
        "## 基本輸入:讀取使用者的輸入\n",
        "\n",
        "```\n",
        "使用input時，會從標準輸入(stdin)中讀取輸入資料\n",
        "這些資料是string字串型態{重要}\n",
        "stdin==Standard Input\n",
        "```"
      ]
    },
    {
      "cell_type": "markdown",
      "metadata": {
        "id": "qE6a1xH9C98b"
      },
      "source": [
        "\n",
        "執行底下程式看看:\n",
        "```\n",
        "# -*- coding: utf-8 -*-\n",
        "x = input('Enter your name:')\n",
        "print('Hello, ' + x)\n",
        "\n",
        "a = input(\"請輸入：\")\n",
        "a\n",
        "```\n"
      ]
    },
    {
      "cell_type": "code",
      "metadata": {
        "id": "NLXZB_lE-IGw",
        "colab": {
          "base_uri": "https://localhost:8080/"
        },
        "outputId": "117e015c-96ab-4d5a-99fd-179a7dfb28dc"
      },
      "source": [
        "# -*- coding: utf-8 -*-\n",
        "x = input('Enter your name:')\n",
        "print('Hello, ' + x)"
      ],
      "execution_count": null,
      "outputs": [
        {
          "output_type": "stream",
          "text": [
            "Enter your name:asdasd\n",
            "Hello, asdasd\n"
          ],
          "name": "stdout"
        }
      ]
    },
    {
      "cell_type": "markdown",
      "metadata": {
        "id": "25eyt1w9Diik"
      },
      "source": [
        "###  使用Python內建的type()函數顯示資料型態\n",
        "\n",
        "底下程式執行後結果為何?\n",
        "```\n",
        "type(a)\n",
        "```"
      ]
    },
    {
      "cell_type": "code",
      "metadata": {
        "id": "7h1sqjVobJ-M",
        "colab": {
          "base_uri": "https://localhost:8080/",
          "height": 167
        },
        "outputId": "bcf5cd3c-5138-4cfc-c4e8-e6097a9f9ffe"
      },
      "source": [
        "type(a)"
      ],
      "execution_count": null,
      "outputs": [
        {
          "output_type": "error",
          "ename": "NameError",
          "evalue": "ignored",
          "traceback": [
            "\u001b[0;31m---------------------------------------------------------------------------\u001b[0m",
            "\u001b[0;31mNameError\u001b[0m                                 Traceback (most recent call last)",
            "\u001b[0;32m<ipython-input-4-b152ec05ccbc>\u001b[0m in \u001b[0;36m<module>\u001b[0;34m()\u001b[0m\n\u001b[0;32m----> 1\u001b[0;31m \u001b[0mtype\u001b[0m\u001b[0;34m(\u001b[0m\u001b[0ma\u001b[0m\u001b[0;34m)\u001b[0m\u001b[0;34m\u001b[0m\u001b[0;34m\u001b[0m\u001b[0m\n\u001b[0m",
            "\u001b[0;31mNameError\u001b[0m: name 'a' is not defined"
          ]
        }
      ]
    },
    {
      "cell_type": "code",
      "metadata": {
        "id": "gWqIFSmKbMIv",
        "colab": {
          "base_uri": "https://localhost:8080/"
        },
        "outputId": "d05f99a3-67c8-4a8d-e1f6-3011952bc45b"
      },
      "source": [
        "type(x)"
      ],
      "execution_count": null,
      "outputs": [
        {
          "output_type": "execute_result",
          "data": {
            "text/plain": [
              "str"
            ]
          },
          "metadata": {
            "tags": []
          },
          "execution_count": 5
        }
      ]
    },
    {
      "cell_type": "code",
      "metadata": {
        "id": "buuGTChl-TUo",
        "colab": {
          "base_uri": "https://localhost:8080/",
          "height": 53
        },
        "outputId": "d366c7b1-8688-4bc3-fe44-9fd1d2d6f149"
      },
      "source": [
        "a = input(\"請輸入：\")\n",
        "a"
      ],
      "execution_count": null,
      "outputs": [
        {
          "output_type": "stream",
          "text": [
            "請輸入：60\n"
          ],
          "name": "stdout"
        },
        {
          "output_type": "execute_result",
          "data": {
            "application/vnd.google.colaboratory.intrinsic+json": {
              "type": "string"
            },
            "text/plain": [
              "'60'"
            ]
          },
          "metadata": {
            "tags": []
          },
          "execution_count": 6
        }
      ]
    },
    {
      "cell_type": "code",
      "metadata": {
        "id": "FrnUGzG2-X5y",
        "colab": {
          "base_uri": "https://localhost:8080/",
          "height": 167
        },
        "outputId": "bb6b0758-5fe2-480f-f86c-7613285a8700"
      },
      "source": [
        "type(a)"
      ],
      "execution_count": null,
      "outputs": [
        {
          "output_type": "error",
          "ename": "NameError",
          "evalue": "ignored",
          "traceback": [
            "\u001b[0;31m---------------------------------------------------------------------------\u001b[0m",
            "\u001b[0;31mNameError\u001b[0m                                 Traceback (most recent call last)",
            "\u001b[0;32m<ipython-input-3-b152ec05ccbc>\u001b[0m in \u001b[0;36m<module>\u001b[0;34m()\u001b[0m\n\u001b[0;32m----> 1\u001b[0;31m \u001b[0mtype\u001b[0m\u001b[0;34m(\u001b[0m\u001b[0ma\u001b[0m\u001b[0;34m)\u001b[0m\u001b[0;34m\u001b[0m\u001b[0;34m\u001b[0m\u001b[0m\n\u001b[0m",
            "\u001b[0;31mNameError\u001b[0m: name 'a' is not defined"
          ]
        }
      ]
    },
    {
      "cell_type": "markdown",
      "metadata": {
        "id": "BMuWFMZqDtKG"
      },
      "source": [
        "### 程式錯誤與更正\n",
        "```\n",
        "小明明正在學習python程式\n",
        "\n",
        "老師出了一題\n",
        "要輸入一個整數分數\n",
        "然後加15後\n",
        "輸出最後答案\n",
        "\n",
        "底下是小明明的python程式\n",
        "請指出底下的錯誤並更正\n",
        "```\n",
        "#### 小明明的python程式 執行後結果為何?\n",
        "```\n",
        "a = input(\"請輸入：\")\n",
        "a\n",
        "\n",
        "b = a+15\n",
        "b\n",
        "```\n"
      ]
    },
    {
      "cell_type": "code",
      "metadata": {
        "id": "JTXDhQD8-md2",
        "colab": {
          "base_uri": "https://localhost:8080/",
          "height": 53
        },
        "outputId": "8494a96b-b21f-4a3b-ca85-ce7af3334a2d"
      },
      "source": [
        "a = input(\"請輸入：\")\n",
        "a"
      ],
      "execution_count": null,
      "outputs": [
        {
          "output_type": "stream",
          "text": [
            "請輸入：65\n"
          ],
          "name": "stdout"
        },
        {
          "output_type": "execute_result",
          "data": {
            "application/vnd.google.colaboratory.intrinsic+json": {
              "type": "string"
            },
            "text/plain": [
              "'65'"
            ]
          },
          "metadata": {
            "tags": []
          },
          "execution_count": 7
        }
      ]
    },
    {
      "cell_type": "code",
      "metadata": {
        "id": "qKmp9uI8-yZn",
        "colab": {
          "base_uri": "https://localhost:8080/",
          "height": 185
        },
        "outputId": "e7330e6c-d60f-442e-fb3a-01474a9b5950"
      },
      "source": [
        "b = a+15\n",
        "b"
      ],
      "execution_count": null,
      "outputs": [
        {
          "output_type": "error",
          "ename": "TypeError",
          "evalue": "ignored",
          "traceback": [
            "\u001b[0;31m---------------------------------------------------------------------------\u001b[0m",
            "\u001b[0;31mTypeError\u001b[0m                                 Traceback (most recent call last)",
            "\u001b[0;32m<ipython-input-8-85fa82382e69>\u001b[0m in \u001b[0;36m<module>\u001b[0;34m()\u001b[0m\n\u001b[0;32m----> 1\u001b[0;31m \u001b[0mb\u001b[0m \u001b[0;34m=\u001b[0m \u001b[0ma\u001b[0m\u001b[0;34m+\u001b[0m\u001b[0;36m15\u001b[0m\u001b[0;34m\u001b[0m\u001b[0;34m\u001b[0m\u001b[0m\n\u001b[0m\u001b[1;32m      2\u001b[0m \u001b[0mb\u001b[0m\u001b[0;34m\u001b[0m\u001b[0;34m\u001b[0m\u001b[0m\n",
            "\u001b[0;31mTypeError\u001b[0m: must be str, not int"
          ]
        }
      ]
    },
    {
      "cell_type": "markdown",
      "metadata": {
        "id": "RIDe5YfG_teI"
      },
      "source": [
        "```\n",
        "TypeError :資料型態(data type)錯誤\n",
        "```"
      ]
    },
    {
      "cell_type": "markdown",
      "metadata": {
        "id": "LAh1-HGmEKMo"
      },
      "source": [
        "#### 更正的 小明明python程式\n",
        "```\n",
        "如何讀取使用者輸入的整數===>使用eval()函數\n",
        "            ===>也可以使用int()函數\n",
        "```\n",
        "底下程式執行後結果為何?\n",
        "```\n",
        "a = eval(input(\"請輸入：\"))\n",
        "a\n",
        "type(a)\n",
        "```"
      ]
    },
    {
      "cell_type": "code",
      "metadata": {
        "id": "kfEDFkyW_Oz4",
        "colab": {
          "base_uri": "https://localhost:8080/"
        },
        "outputId": "d16aa638-0aac-451b-d551-e81d77a3645f"
      },
      "source": [
        "a = eval(input(\"請輸入：\"))\n",
        "a"
      ],
      "execution_count": null,
      "outputs": [
        {
          "output_type": "stream",
          "text": [
            "請輸入：65\n"
          ],
          "name": "stdout"
        },
        {
          "output_type": "execute_result",
          "data": {
            "text/plain": [
              "65"
            ]
          },
          "metadata": {
            "tags": []
          },
          "execution_count": 9
        }
      ]
    },
    {
      "cell_type": "code",
      "metadata": {
        "id": "3D3-qUdV_SOc",
        "colab": {
          "base_uri": "https://localhost:8080/"
        },
        "outputId": "b12da939-c40a-4e90-d93e-239a42bd56cd"
      },
      "source": [
        "type(a)"
      ],
      "execution_count": null,
      "outputs": [
        {
          "output_type": "execute_result",
          "data": {
            "text/plain": [
              "int"
            ]
          },
          "metadata": {
            "tags": []
          },
          "execution_count": 10
        }
      ]
    },
    {
      "cell_type": "markdown",
      "metadata": {
        "id": "lcfO6SimMzIm"
      },
      "source": [
        "寫下你更正的答案:"
      ]
    },
    {
      "cell_type": "code",
      "metadata": {
        "id": "UAasfEg9_beZ",
        "colab": {
          "base_uri": "https://localhost:8080/"
        },
        "outputId": "349fead3-a42e-461a-f88c-5e9db8d086d5"
      },
      "source": [
        "a = int(input(\"請輸入：\"))\n",
        "b = a + 15\n",
        "b"
      ],
      "execution_count": null,
      "outputs": [
        {
          "output_type": "stream",
          "text": [
            "請輸入：65\n"
          ],
          "name": "stdout"
        },
        {
          "output_type": "execute_result",
          "data": {
            "text/plain": [
              "80"
            ]
          },
          "metadata": {
            "tags": []
          },
          "execution_count": 11
        }
      ]
    },
    {
      "cell_type": "markdown",
      "metadata": {
        "id": "ojFW3LYnAhM_"
      },
      "source": [
        "#### 超級重要:一次輸入多（兩）個資料\n",
        "\n",
        "底下程式執行後結果為何?\n",
        "```\n",
        "a,b = eval(input(\"請輸入兩個數位：\"))\n",
        "a,b\n",
        "```"
      ]
    },
    {
      "cell_type": "code",
      "metadata": {
        "id": "hl3Cw_JA_24-",
        "colab": {
          "base_uri": "https://localhost:8080/",
          "height": 151
        },
        "outputId": "9ef6141e-0be4-442b-bb36-62ca34cfbc6a"
      },
      "source": [
        "a,b = eval(input(\"請輸入兩個數位：\"))\n",
        "\n",
        "a,b"
      ],
      "execution_count": null,
      "outputs": [
        {
          "output_type": "stream",
          "text": [
            "請輸入兩個數位：12 23\n"
          ],
          "name": "stdout"
        },
        {
          "output_type": "error",
          "ename": "SyntaxError",
          "evalue": "ignored",
          "traceback": [
            "\u001b[0;36m  File \u001b[0;32m\"<string>\"\u001b[0;36m, line \u001b[0;32m1\u001b[0m\n\u001b[0;31m    12 23\u001b[0m\n\u001b[0m        ^\u001b[0m\n\u001b[0;31mSyntaxError\u001b[0m\u001b[0;31m:\u001b[0m unexpected EOF while parsing\n"
          ]
        }
      ]
    },
    {
      "cell_type": "code",
      "metadata": {
        "id": "ZDqu8BWVAQKx",
        "colab": {
          "base_uri": "https://localhost:8080/"
        },
        "outputId": "7f777fb1-f64c-4a9d-fc6c-46b4266749b3"
      },
      "source": [
        "a,b = eval(input(\"請輸入兩個數位：\"))\n",
        "\n",
        "a,b"
      ],
      "execution_count": null,
      "outputs": [
        {
          "output_type": "stream",
          "text": [
            "請輸入兩個數位：12,45\n"
          ],
          "name": "stdout"
        },
        {
          "output_type": "execute_result",
          "data": {
            "text/plain": [
              "(12, 45)"
            ]
          },
          "metadata": {
            "tags": []
          },
          "execution_count": 12
        }
      ]
    }
  ]
}